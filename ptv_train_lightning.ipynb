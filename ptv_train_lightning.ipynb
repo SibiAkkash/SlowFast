{
 "cells": [
  {
   "cell_type": "code",
   "execution_count": 2,
   "metadata": {},
   "outputs": [],
   "source": [
    "import os\n",
    "import pytorch_lightning\n",
    "import pytorchvideo.data\n",
    "import torch.utils.data"
   ]
  },
  {
   "cell_type": "code",
   "execution_count": 3,
   "metadata": {},
   "outputs": [],
   "source": [
    "from pytorchvideo.transforms import (\n",
    "    ApplyTransformToKey,\n",
    "    Normalize,\n",
    "    RandomShortSideScale,\n",
    "    RemoveKey,\n",
    "    ShortSideScale,\n",
    "    UniformTemporalSubsample\n",
    ")\n",
    "\n",
    "from torchvision.transforms import (\n",
    "    Compose,\n",
    "    Lambda,\n",
    "    RandomCrop,\n",
    "    RandomHorizontalFlip\n",
    ")"
   ]
  },
  {
   "cell_type": "code",
   "execution_count": 20,
   "metadata": {},
   "outputs": [],
   "source": [
    "class KineticsDataModule(pytorch_lightning.LightningDataModule):\n",
    "\n",
    "    # Dataset configuration\n",
    "    _DATA_PATH = \"../action_clips\"\n",
    "    _CLIP_DURATION = 2  # Duration of sampled clip for each video\n",
    "    _BATCH_SIZE = 8\n",
    "    _NUM_WORKERS = 4  # Number of parallel processes fetching data\n",
    "\n",
    "    def train_dataloader(self):\n",
    "        \"\"\"\n",
    "        Create the Kinetics train partition from the list of video labels\n",
    "        in {self._DATA_PATH}/train.csv. Add transform that subsamples and\n",
    "        normalizes the video before applying the scale, crop and flip augmentations.\n",
    "        \"\"\"\n",
    "        train_transform = Compose(\n",
    "            [\n",
    "                ApplyTransformToKey(\n",
    "                    key=\"video\",\n",
    "                    transform=Compose(\n",
    "                        [\n",
    "                            UniformTemporalSubsample(8),\n",
    "                            Lambda(lambda x: x / 255.0),\n",
    "                            Normalize((0.45, 0.45, 0.45), (0.225, 0.225, 0.225)),\n",
    "                            RandomShortSideScale(min_size=256, max_size=320),\n",
    "                            RandomCrop(244),\n",
    "                            RandomHorizontalFlip(p=0.5),\n",
    "                        ]\n",
    "                    ),\n",
    "                ),\n",
    "            ]\n",
    "        )\n",
    "        train_dataset = pytorchvideo.data.Kinetics(\n",
    "            data_path=os.path.join(self._DATA_PATH, \"train.csv\"),\n",
    "            clip_sampler=pytorchvideo.data.make_clip_sampler(\n",
    "                \"random\", self._CLIP_DURATION\n",
    "            ),\n",
    "            transform=train_transform,\n",
    "            video_path_prefix=\"../action_clips\"\n",
    "        )\n",
    "        return torch.utils.data.DataLoader(\n",
    "            train_dataset,\n",
    "            batch_size=self._BATCH_SIZE,\n",
    "            num_workers=self._NUM_WORKERS,\n",
    "        )\n",
    "\n",
    "    def val_dataloader(self):\n",
    "        \"\"\"\n",
    "        Create the Kinetics train partition from the list of video labels\n",
    "        in {self._DATA_PATH}/train.csv. Add transform that subsamples and\n",
    "        normalizes the video before applying the scale, crop and flip augmentations.\n",
    "        \"\"\"\n",
    "        val_transform = Compose(\n",
    "            [\n",
    "                ApplyTransformToKey(\n",
    "                    key=\"video\",\n",
    "                    transform=Compose(\n",
    "                        [\n",
    "                            UniformTemporalSubsample(8),\n",
    "                            Lambda(lambda x: x / 255.0),\n",
    "                            Normalize((0.45, 0.45, 0.45), (0.225, 0.225, 0.225)),\n",
    "                        ]\n",
    "                    ),\n",
    "                ),\n",
    "            ]\n",
    "        )\n",
    "        val_dataset = pytorchvideo.data.Kinetics(\n",
    "            data_path=os.path.join(self._DATA_PATH, \"val.csv\"),\n",
    "            clip_sampler=pytorchvideo.data.make_clip_sampler(\n",
    "                \"random\", self._CLIP_DURATION\n",
    "            ),\n",
    "            transform=val_transform,\n",
    "        )\n",
    "        return torch.utils.data.DataLoader(\n",
    "            val_dataset,\n",
    "            batch_size=self._BATCH_SIZE,\n",
    "            num_workers=self._NUM_WORKERS,\n",
    "        )\n"
   ]
  },
  {
   "cell_type": "code",
   "execution_count": 6,
   "metadata": {},
   "outputs": [],
   "source": [
    "import pytorchvideo.models.resnet\n",
    "import torch.nn as nn\n",
    "\n",
    "def make_kinetics_resnet():\n",
    "    return pytorchvideo.models.resnet.create_resnet(\n",
    "        input_channel=3,  # RGB input from Kinetics\n",
    "        model_depth=50,  # For the tutorial let's just use a 50 layer network\n",
    "        model_num_class=400,  # Kinetics has 400 classes so we need out final head to align\n",
    "        norm=nn.BatchNorm3d,\n",
    "        activation=nn.ReLU,\n",
    "    )\n"
   ]
  },
  {
   "cell_type": "code",
   "execution_count": 13,
   "metadata": {},
   "outputs": [],
   "source": [
    "import torch\n",
    "import torch.nn as nn\n",
    "import torch.nn.functional as F\n",
    "\n",
    "\n",
    "class VideoClassificationLightningModule(pytorch_lightning.LightningModule):\n",
    "    def __init__(self):\n",
    "        super().__init__()\n",
    "        self.model = make_kinetics_resnet()\n",
    "\n",
    "    def forward(self, x):\n",
    "        return self.model(x)\n",
    "\n",
    "    def training_step(self, batch, batch_idx):\n",
    "        # The model expects a video tensor of shape (B, C, T, H, W), which is the\n",
    "        # format provided by the dataset\n",
    "        y_hat = self.model(batch[\"video\"])\n",
    "\n",
    "        # Compute cross entropy loss, loss.backwards will be called behind the scenes\n",
    "        # by PyTorchLightning after being returned from this method.\n",
    "        loss = F.cross_entropy(y_hat, batch[\"label\"])\n",
    "\n",
    "        # Log the train loss to Tensorboard\n",
    "        self.log(\"train_loss\", loss.item())\n",
    "\n",
    "        return loss\n",
    "\n",
    "    def validation_step(self, batch, batch_idx):\n",
    "        y_hat = self.model(batch[\"video\"])\n",
    "        loss = F.cross_entropy(y_hat, batch[\"label\"])\n",
    "        self.log(\"val_loss\", loss)\n",
    "        return loss\n",
    "\n",
    "    def configure_optimizers(self):\n",
    "        \"\"\"\n",
    "        Setup the Adam optimizer. Note, that this function also can return a lr scheduler, which is\n",
    "        usually useful for training video models.\n",
    "        \"\"\"\n",
    "        return torch.optim.Adam(self.parameters(), lr=1e-1)\n"
   ]
  },
  {
   "cell_type": "code",
   "execution_count": 14,
   "metadata": {},
   "outputs": [],
   "source": [
    "def train():\n",
    "    classification_module = VideoClassificationLightningModule()\n",
    "    data_module = KineticsDataModule()\n",
    "    trainer = pytorch_lightning.Trainer(gpus=1)\n",
    "    trainer.fit(classification_module, data_module)\n"
   ]
  },
  {
   "cell_type": "code",
   "execution_count": 21,
   "metadata": {},
   "outputs": [
    {
     "name": "stderr",
     "output_type": "stream",
     "text": [
      "GPU available: True, used: True\n",
      "TPU available: False, using: 0 TPU cores\n",
      "IPU available: False, using: 0 IPUs\n",
      "LOCAL_RANK: 0 - CUDA_VISIBLE_DEVICES: [0]\n",
      "\n",
      "  | Name  | Type | Params\n",
      "-------------------------------\n",
      "0 | model | Net  | 32.5 M\n",
      "-------------------------------\n",
      "32.5 M    Trainable params\n",
      "0         Non-trainable params\n",
      "32.5 M    Total params\n",
      "129.892   Total estimated model params size (MB)\n"
     ]
    },
    {
     "name": "stdout",
     "output_type": "stream",
     "text": [
      "Epoch 0: : 0it [00:00, ?it/s]                                         "
     ]
    },
    {
     "name": "stderr",
     "output_type": "stream",
     "text": [
      "/home/sibi/miniconda3/envs/slowfast/lib/python3.8/site-packages/pytorch_lightning/trainer/trainer.py:688: UserWarning: Detected KeyboardInterrupt, attempting graceful shutdown...\n",
      "  rank_zero_warn(\"Detected KeyboardInterrupt, attempting graceful shutdown...\")\n"
     ]
    }
   ],
   "source": [
    "train()"
   ]
  },
  {
   "cell_type": "code",
   "execution_count": null,
   "metadata": {},
   "outputs": [],
   "source": []
  }
 ],
 "metadata": {
  "interpreter": {
   "hash": "d950df4fde4d6f0677c97efd89fc33f35413f92dff9399b6acf8c54643654816"
  },
  "kernelspec": {
   "display_name": "Python 3 (ipykernel)",
   "language": "python",
   "name": "python3"
  },
  "language_info": {
   "codemirror_mode": {
    "name": "ipython",
    "version": 3
   },
   "file_extension": ".py",
   "mimetype": "text/x-python",
   "name": "python",
   "nbconvert_exporter": "python",
   "pygments_lexer": "ipython3",
   "version": "3.8.12"
  }
 },
 "nbformat": 4,
 "nbformat_minor": 4
}
